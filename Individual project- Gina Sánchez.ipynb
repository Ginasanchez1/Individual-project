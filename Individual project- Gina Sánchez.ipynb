{
 "cells": [
  {
   "cell_type": "markdown",
   "id": "96a01604",
   "metadata": {},
   "source": [
    "## Data Exploration and Description Exercise\n",
    "\n",
    "The Tate is the name given to the National Gallery of British art and modern art in England. A central space for the conservation and exhibition of works of art in the world. Its collection includes a representative sample of well-known artists from the nineteenth century to the present day; however, in light of the new paradigms of representation, questions arise about the inclusion of women artists or artists with non-hegemonic geographical origins in its collection. Considering this scenario, the research question of this exercise is: Can it be said that the canon materialized by the Tate Museum's collection is eminently masculine and Western or is there a significant inclusion of women artists or people from non-hegemonic countries? For this purpose, this paper will conduct an exploratory analysis of a metadata file named artist_data.csv. "
   ]
  },
  {
   "cell_type": "code",
   "execution_count": 54,
   "id": "7586f932",
   "metadata": {},
   "outputs": [
    {
     "data": {
      "text/html": [
       "<div>\n",
       "<style scoped>\n",
       "    .dataframe tbody tr th:only-of-type {\n",
       "        vertical-align: middle;\n",
       "    }\n",
       "\n",
       "    .dataframe tbody tr th {\n",
       "        vertical-align: top;\n",
       "    }\n",
       "\n",
       "    .dataframe thead th {\n",
       "        text-align: right;\n",
       "    }\n",
       "</style>\n",
       "<table border=\"1\" class=\"dataframe\">\n",
       "  <thead>\n",
       "    <tr style=\"text-align: right;\">\n",
       "      <th></th>\n",
       "      <th>id</th>\n",
       "      <th>name</th>\n",
       "      <th>gender</th>\n",
       "      <th>dates</th>\n",
       "      <th>yearOfBirth</th>\n",
       "      <th>yearOfDeath</th>\n",
       "      <th>placeOfBirth</th>\n",
       "      <th>placeOfDeath</th>\n",
       "      <th>url</th>\n",
       "    </tr>\n",
       "  </thead>\n",
       "  <tbody>\n",
       "    <tr>\n",
       "      <th>0</th>\n",
       "      <td>10093</td>\n",
       "      <td>Abakanowicz, Magdalena</td>\n",
       "      <td>Female</td>\n",
       "      <td>born 1930</td>\n",
       "      <td>1930.0</td>\n",
       "      <td>NaN</td>\n",
       "      <td>Polska</td>\n",
       "      <td>NaN</td>\n",
       "      <td>http://www.tate.org.uk/art/artists/magdalena-a...</td>\n",
       "    </tr>\n",
       "    <tr>\n",
       "      <th>1</th>\n",
       "      <td>0</td>\n",
       "      <td>Abbey, Edwin Austin</td>\n",
       "      <td>Male</td>\n",
       "      <td>1852–1911</td>\n",
       "      <td>1852.0</td>\n",
       "      <td>1911.0</td>\n",
       "      <td>Philadelphia, United States</td>\n",
       "      <td>London, United Kingdom</td>\n",
       "      <td>http://www.tate.org.uk/art/artists/edwin-austi...</td>\n",
       "    </tr>\n",
       "    <tr>\n",
       "      <th>2</th>\n",
       "      <td>2756</td>\n",
       "      <td>Abbott, Berenice</td>\n",
       "      <td>Female</td>\n",
       "      <td>1898–1991</td>\n",
       "      <td>1898.0</td>\n",
       "      <td>1991.0</td>\n",
       "      <td>Springfield, United States</td>\n",
       "      <td>Monson, United States</td>\n",
       "      <td>http://www.tate.org.uk/art/artists/berenice-ab...</td>\n",
       "    </tr>\n",
       "    <tr>\n",
       "      <th>3</th>\n",
       "      <td>1</td>\n",
       "      <td>Abbott, Lemuel Francis</td>\n",
       "      <td>Male</td>\n",
       "      <td>1760–1803</td>\n",
       "      <td>1760.0</td>\n",
       "      <td>1803.0</td>\n",
       "      <td>Leicestershire, United Kingdom</td>\n",
       "      <td>London, United Kingdom</td>\n",
       "      <td>http://www.tate.org.uk/art/artists/lemuel-fran...</td>\n",
       "    </tr>\n",
       "    <tr>\n",
       "      <th>4</th>\n",
       "      <td>622</td>\n",
       "      <td>Abrahams, Ivor</td>\n",
       "      <td>Male</td>\n",
       "      <td>born 1935</td>\n",
       "      <td>1935.0</td>\n",
       "      <td>NaN</td>\n",
       "      <td>Wigan, United Kingdom</td>\n",
       "      <td>NaN</td>\n",
       "      <td>http://www.tate.org.uk/art/artists/ivor-abraha...</td>\n",
       "    </tr>\n",
       "  </tbody>\n",
       "</table>\n",
       "</div>"
      ],
      "text/plain": [
       "      id                    name  gender      dates  yearOfBirth  yearOfDeath  \\\n",
       "0  10093  Abakanowicz, Magdalena  Female  born 1930       1930.0          NaN   \n",
       "1      0     Abbey, Edwin Austin    Male  1852–1911       1852.0       1911.0   \n",
       "2   2756        Abbott, Berenice  Female  1898–1991       1898.0       1991.0   \n",
       "3      1  Abbott, Lemuel Francis    Male  1760–1803       1760.0       1803.0   \n",
       "4    622          Abrahams, Ivor    Male  born 1935       1935.0          NaN   \n",
       "\n",
       "                     placeOfBirth            placeOfDeath  \\\n",
       "0                          Polska                     NaN   \n",
       "1     Philadelphia, United States  London, United Kingdom   \n",
       "2      Springfield, United States   Monson, United States   \n",
       "3  Leicestershire, United Kingdom  London, United Kingdom   \n",
       "4           Wigan, United Kingdom                     NaN   \n",
       "\n",
       "                                                 url  \n",
       "0  http://www.tate.org.uk/art/artists/magdalena-a...  \n",
       "1  http://www.tate.org.uk/art/artists/edwin-austi...  \n",
       "2  http://www.tate.org.uk/art/artists/berenice-ab...  \n",
       "3  http://www.tate.org.uk/art/artists/lemuel-fran...  \n",
       "4  http://www.tate.org.uk/art/artists/ivor-abraha...  "
      ]
     },
     "execution_count": 54,
     "metadata": {},
     "output_type": "execute_result"
    }
   ],
   "source": [
    "df = pd.read_csv('artist_data.csv',sep=\",\")\n",
    "df.head()"
   ]
  },
  {
   "cell_type": "code",
   "execution_count": 55,
   "id": "a7e956c0",
   "metadata": {},
   "outputs": [
    {
     "data": {
      "text/html": [
       "<div>\n",
       "<style scoped>\n",
       "    .dataframe tbody tr th:only-of-type {\n",
       "        vertical-align: middle;\n",
       "    }\n",
       "\n",
       "    .dataframe tbody tr th {\n",
       "        vertical-align: top;\n",
       "    }\n",
       "\n",
       "    .dataframe thead th {\n",
       "        text-align: right;\n",
       "    }\n",
       "</style>\n",
       "<table border=\"1\" class=\"dataframe\">\n",
       "  <thead>\n",
       "    <tr style=\"text-align: right;\">\n",
       "      <th></th>\n",
       "      <th>id</th>\n",
       "      <th>name</th>\n",
       "      <th>gender</th>\n",
       "      <th>dates</th>\n",
       "      <th>yearOfBirth</th>\n",
       "      <th>yearOfDeath</th>\n",
       "      <th>placeOfBirth</th>\n",
       "      <th>placeOfDeath</th>\n",
       "      <th>url</th>\n",
       "    </tr>\n",
       "  </thead>\n",
       "  <tbody>\n",
       "    <tr>\n",
       "      <th>0</th>\n",
       "      <td>10093</td>\n",
       "      <td>Abakanowicz, Magdalena</td>\n",
       "      <td>Female</td>\n",
       "      <td>born 1930</td>\n",
       "      <td>1930.0</td>\n",
       "      <td>NaN</td>\n",
       "      <td>Polska</td>\n",
       "      <td>NaN</td>\n",
       "      <td>http://www.tate.org.uk/art/artists/magdalena-a...</td>\n",
       "    </tr>\n",
       "    <tr>\n",
       "      <th>1</th>\n",
       "      <td>0</td>\n",
       "      <td>Abbey, Edwin Austin</td>\n",
       "      <td>Male</td>\n",
       "      <td>1852–1911</td>\n",
       "      <td>1852.0</td>\n",
       "      <td>1911.0</td>\n",
       "      <td>Philadelphia, United States</td>\n",
       "      <td>London, United Kingdom</td>\n",
       "      <td>http://www.tate.org.uk/art/artists/edwin-austi...</td>\n",
       "    </tr>\n",
       "    <tr>\n",
       "      <th>2</th>\n",
       "      <td>2756</td>\n",
       "      <td>Abbott, Berenice</td>\n",
       "      <td>Female</td>\n",
       "      <td>1898–1991</td>\n",
       "      <td>1898.0</td>\n",
       "      <td>1991.0</td>\n",
       "      <td>Springfield, United States</td>\n",
       "      <td>Monson, United States</td>\n",
       "      <td>http://www.tate.org.uk/art/artists/berenice-ab...</td>\n",
       "    </tr>\n",
       "    <tr>\n",
       "      <th>3</th>\n",
       "      <td>1</td>\n",
       "      <td>Abbott, Lemuel Francis</td>\n",
       "      <td>Male</td>\n",
       "      <td>1760–1803</td>\n",
       "      <td>1760.0</td>\n",
       "      <td>1803.0</td>\n",
       "      <td>Leicestershire, United Kingdom</td>\n",
       "      <td>London, United Kingdom</td>\n",
       "      <td>http://www.tate.org.uk/art/artists/lemuel-fran...</td>\n",
       "    </tr>\n",
       "    <tr>\n",
       "      <th>4</th>\n",
       "      <td>622</td>\n",
       "      <td>Abrahams, Ivor</td>\n",
       "      <td>Male</td>\n",
       "      <td>born 1935</td>\n",
       "      <td>1935.0</td>\n",
       "      <td>NaN</td>\n",
       "      <td>Wigan, United Kingdom</td>\n",
       "      <td>NaN</td>\n",
       "      <td>http://www.tate.org.uk/art/artists/ivor-abraha...</td>\n",
       "    </tr>\n",
       "    <tr>\n",
       "      <th>5</th>\n",
       "      <td>2606</td>\n",
       "      <td>Absalon</td>\n",
       "      <td>Male</td>\n",
       "      <td>1964–1993</td>\n",
       "      <td>1964.0</td>\n",
       "      <td>1993.0</td>\n",
       "      <td>Tel Aviv-Yafo, Yisra'el</td>\n",
       "      <td>Paris, France</td>\n",
       "      <td>http://www.tate.org.uk/art/artists/absalon-2606</td>\n",
       "    </tr>\n",
       "    <tr>\n",
       "      <th>6</th>\n",
       "      <td>9550</td>\n",
       "      <td>Abts, Tomma</td>\n",
       "      <td>Female</td>\n",
       "      <td>born 1967</td>\n",
       "      <td>1967.0</td>\n",
       "      <td>NaN</td>\n",
       "      <td>Kiel, Deutschland</td>\n",
       "      <td>NaN</td>\n",
       "      <td>http://www.tate.org.uk/art/artists/tomma-abts-...</td>\n",
       "    </tr>\n",
       "    <tr>\n",
       "      <th>7</th>\n",
       "      <td>623</td>\n",
       "      <td>Acconci, Vito</td>\n",
       "      <td>Male</td>\n",
       "      <td>born 1940</td>\n",
       "      <td>1940.0</td>\n",
       "      <td>NaN</td>\n",
       "      <td>New York, United States</td>\n",
       "      <td>NaN</td>\n",
       "      <td>http://www.tate.org.uk/art/artists/vito-acconc...</td>\n",
       "    </tr>\n",
       "    <tr>\n",
       "      <th>8</th>\n",
       "      <td>624</td>\n",
       "      <td>Ackling, Roger</td>\n",
       "      <td>Male</td>\n",
       "      <td>1947–2014</td>\n",
       "      <td>1947.0</td>\n",
       "      <td>2014.0</td>\n",
       "      <td>Isleworth, United Kingdom</td>\n",
       "      <td>NaN</td>\n",
       "      <td>http://www.tate.org.uk/art/artists/roger-ackli...</td>\n",
       "    </tr>\n",
       "    <tr>\n",
       "      <th>9</th>\n",
       "      <td>625</td>\n",
       "      <td>Ackroyd, Norman</td>\n",
       "      <td>Male</td>\n",
       "      <td>born 1938</td>\n",
       "      <td>1938.0</td>\n",
       "      <td>NaN</td>\n",
       "      <td>Leeds, United Kingdom</td>\n",
       "      <td>NaN</td>\n",
       "      <td>http://www.tate.org.uk/art/artists/norman-ackr...</td>\n",
       "    </tr>\n",
       "  </tbody>\n",
       "</table>\n",
       "</div>"
      ],
      "text/plain": [
       "      id                    name  gender      dates  yearOfBirth  yearOfDeath  \\\n",
       "0  10093  Abakanowicz, Magdalena  Female  born 1930       1930.0          NaN   \n",
       "1      0     Abbey, Edwin Austin    Male  1852–1911       1852.0       1911.0   \n",
       "2   2756        Abbott, Berenice  Female  1898–1991       1898.0       1991.0   \n",
       "3      1  Abbott, Lemuel Francis    Male  1760–1803       1760.0       1803.0   \n",
       "4    622          Abrahams, Ivor    Male  born 1935       1935.0          NaN   \n",
       "5   2606                 Absalon    Male  1964–1993       1964.0       1993.0   \n",
       "6   9550             Abts, Tomma  Female  born 1967       1967.0          NaN   \n",
       "7    623           Acconci, Vito    Male  born 1940       1940.0          NaN   \n",
       "8    624          Ackling, Roger    Male  1947–2014       1947.0       2014.0   \n",
       "9    625         Ackroyd, Norman    Male  born 1938       1938.0          NaN   \n",
       "\n",
       "                     placeOfBirth            placeOfDeath  \\\n",
       "0                          Polska                     NaN   \n",
       "1     Philadelphia, United States  London, United Kingdom   \n",
       "2      Springfield, United States   Monson, United States   \n",
       "3  Leicestershire, United Kingdom  London, United Kingdom   \n",
       "4           Wigan, United Kingdom                     NaN   \n",
       "5         Tel Aviv-Yafo, Yisra'el           Paris, France   \n",
       "6               Kiel, Deutschland                     NaN   \n",
       "7         New York, United States                     NaN   \n",
       "8       Isleworth, United Kingdom                     NaN   \n",
       "9           Leeds, United Kingdom                     NaN   \n",
       "\n",
       "                                                 url  \n",
       "0  http://www.tate.org.uk/art/artists/magdalena-a...  \n",
       "1  http://www.tate.org.uk/art/artists/edwin-austi...  \n",
       "2  http://www.tate.org.uk/art/artists/berenice-ab...  \n",
       "3  http://www.tate.org.uk/art/artists/lemuel-fran...  \n",
       "4  http://www.tate.org.uk/art/artists/ivor-abraha...  \n",
       "5    http://www.tate.org.uk/art/artists/absalon-2606  \n",
       "6  http://www.tate.org.uk/art/artists/tomma-abts-...  \n",
       "7  http://www.tate.org.uk/art/artists/vito-acconc...  \n",
       "8  http://www.tate.org.uk/art/artists/roger-ackli...  \n",
       "9  http://www.tate.org.uk/art/artists/norman-ackr...  "
      ]
     },
     "execution_count": 55,
     "metadata": {},
     "output_type": "execute_result"
    }
   ],
   "source": [
    "df.head(10)"
   ]
  },
  {
   "cell_type": "code",
   "execution_count": 66,
   "id": "fa0f2e1b",
   "metadata": {},
   "outputs": [
    {
     "name": "stdout",
     "output_type": "stream",
     "text": [
      "<class 'pandas.core.frame.DataFrame'>\n",
      "RangeIndex: 3532 entries, 0 to 3531\n",
      "Data columns (total 9 columns):\n",
      " #   Column        Non-Null Count  Dtype  \n",
      "---  ------        --------------  -----  \n",
      " 0   id            3532 non-null   int64  \n",
      " 1   name          3532 non-null   object \n",
      " 2   gender        3416 non-null   object \n",
      " 3   dates         3470 non-null   object \n",
      " 4   yearOfBirth   3472 non-null   float64\n",
      " 5   yearOfDeath   2228 non-null   float64\n",
      " 6   placeOfBirth  3040 non-null   object \n",
      " 7   placeOfDeath  1453 non-null   object \n",
      " 8   url           3532 non-null   object \n",
      "dtypes: float64(2), int64(1), object(6)\n",
      "memory usage: 248.5+ KB\n"
     ]
    }
   ],
   "source": [
    "#What kind of information does the file contain?\n",
    "df.info()"
   ]
  },
  {
   "cell_type": "code",
   "execution_count": 67,
   "id": "407100a8",
   "metadata": {},
   "outputs": [
    {
     "data": {
      "text/plain": [
       "Male      2895\n",
       "Female     521\n",
       "Name: gender, dtype: int64"
      ]
     },
     "execution_count": 67,
     "metadata": {},
     "output_type": "execute_result"
    }
   ],
   "source": [
    "#count how many artists in the collection are women and how many men\n",
    "\n",
    "df['gender'].value_counts()"
   ]
  },
  {
   "cell_type": "code",
   "execution_count": 59,
   "id": "c2eafa9f",
   "metadata": {},
   "outputs": [
    {
     "data": {
      "text/plain": [
       "Male      0.847482\n",
       "Female    0.152518\n",
       "Name: gender, dtype: float64"
      ]
     },
     "execution_count": 59,
     "metadata": {},
     "output_type": "execute_result"
    }
   ],
   "source": [
    "df['gender'].value_counts(normalize=True)"
   ]
  },
  {
   "cell_type": "markdown",
   "id": "73373f65",
   "metadata": {},
   "source": [
    "##Considering the above results it can be inferred, first: the metadata file provides very useful information in relation to the research question, such as: gender, date of birth and death, and place of birth and death of the artists. Second, it can be seen that the Tate collection has a very unequal proportion of male and female artists. Only 15.25% of the artists are women, while 84.74% are men. "
   ]
  },
  {
   "cell_type": "code",
   "execution_count": 68,
   "id": "81968683",
   "metadata": {},
   "outputs": [
    {
     "name": "stderr",
     "output_type": "stream",
     "text": [
      "/var/folders/8r/v9_xt52n0_7250gc4dy76_p80000gn/T/ipykernel_2452/3591303387.py:3: FutureWarning: Dropping of nuisance columns in DataFrame reductions (with 'numeric_only=None') is deprecated; in a future version this will raise TypeError.  Select only valid columns before calling the reduction.\n",
      "  df.loc[df['gender'] == 'Male', :].mean()\n"
     ]
    },
    {
     "data": {
      "text/plain": [
       "id             2812.151295\n",
       "yearOfBirth    1880.688370\n",
       "yearOfDeath    1917.645310\n",
       "dtype: float64"
      ]
     },
     "execution_count": 68,
     "metadata": {},
     "output_type": "execute_result"
    }
   ],
   "source": [
    "#What is the average year of birth and death of male artists?\n",
    "\n",
    "df.loc[df['gender'] == 'Male', :].mean()"
   ]
  },
  {
   "cell_type": "code",
   "execution_count": 69,
   "id": "67465e0c",
   "metadata": {},
   "outputs": [
    {
     "name": "stderr",
     "output_type": "stream",
     "text": [
      "/var/folders/8r/v9_xt52n0_7250gc4dy76_p80000gn/T/ipykernel_2452/3003074839.py:3: FutureWarning: Dropping of nuisance columns in DataFrame reductions (with 'numeric_only=None') is deprecated; in a future version this will raise TypeError.  Select only valid columns before calling the reduction.\n",
      "  df.loc[df['gender'] == 'Female', :].mean()\n"
     ]
    },
    {
     "data": {
      "text/plain": [
       "id             5016.917466\n",
       "yearOfBirth    1925.695312\n",
       "yearOfDeath    1962.678571\n",
       "dtype: float64"
      ]
     },
     "execution_count": 69,
     "metadata": {},
     "output_type": "execute_result"
    }
   ],
   "source": [
    "#What is the average year of birth and death of female artists?\n",
    "\n",
    "df.loc[df['gender'] == 'Female', :].mean()"
   ]
  },
  {
   "cell_type": "code",
   "execution_count": 70,
   "id": "26d6bc00",
   "metadata": {},
   "outputs": [
    {
     "data": {
      "text/plain": [
       "1880.6883704735376"
      ]
     },
     "execution_count": 70,
     "metadata": {},
     "output_type": "execute_result"
    }
   ],
   "source": [
    "#What is the average year of birth of male artists?\n",
    "\n",
    "df.loc[df['gender'] == 'Male', 'yearOfBirth'].mean()"
   ]
  },
  {
   "cell_type": "code",
   "execution_count": 71,
   "id": "c13ac2f5",
   "metadata": {},
   "outputs": [
    {
     "data": {
      "text/plain": [
       "1925.6953125"
      ]
     },
     "execution_count": 71,
     "metadata": {},
     "output_type": "execute_result"
    }
   ],
   "source": [
    "#What is the average year of birth of female artists?\n",
    "\n",
    "df.loc[df['gender'] == 'Female', 'yearOfBirth'].mean()"
   ]
  },
  {
   "cell_type": "markdown",
   "id": "358bb851",
   "metadata": {},
   "source": [
    "##In relation to the above analysis, a number of very interesting observations can be made. The data show that most of the male artists in the collection were born at the end of the 19th century, while the women were born at the beginning of the 20th century, which may suggest that the professionalization of the artist's craft among women began to consolidate during the first half of the 20th century, as well as their inclusion in museums and exhibitions. "
   ]
  },
  {
   "cell_type": "code",
   "execution_count": 35,
   "id": "d282fc52",
   "metadata": {},
   "outputs": [],
   "source": [
    "#df.loc[df['gender'] == 'Female', 'placeOfBirth'].mean()"
   ]
  },
  {
   "cell_type": "code",
   "execution_count": 38,
   "id": "a2fd8404",
   "metadata": {},
   "outputs": [
    {
     "data": {
      "text/plain": [
       "London, United Kingdom       446\n",
       "Paris, France                 57\n",
       "Edinburgh, United Kingdom     47\n",
       "New York, United States       43\n",
       "Glasgow, United Kingdom       35\n",
       "                            ... \n",
       "Gdansk, Polska                 1\n",
       "Zundert, Nederland             1\n",
       "Randfontein, South Africa      1\n",
       "Tula, Rossiya                  1\n",
       "España                         1\n",
       "Name: placeOfBirth, Length: 1263, dtype: int64"
      ]
     },
     "execution_count": 38,
     "metadata": {},
     "output_type": "execute_result"
    }
   ],
   "source": [
    "#determine the birthplaces of the artists in the collection\n",
    "\n",
    "df['placeOfBirth'].value_counts()"
   ]
  },
  {
   "cell_type": "code",
   "execution_count": 40,
   "id": "d1c5b516",
   "metadata": {},
   "outputs": [
    {
     "data": {
      "text/plain": [
       "London, United Kingdom       0.146711\n",
       "Paris, France                0.018750\n",
       "Edinburgh, United Kingdom    0.015461\n",
       "New York, United States      0.014145\n",
       "Glasgow, United Kingdom      0.011513\n",
       "                               ...   \n",
       "Gdansk, Polska               0.000329\n",
       "Zundert, Nederland           0.000329\n",
       "Randfontein, South Africa    0.000329\n",
       "Tula, Rossiya                0.000329\n",
       "España                       0.000329\n",
       "Name: placeOfBirth, Length: 1263, dtype: float64"
      ]
     },
     "execution_count": 40,
     "metadata": {},
     "output_type": "execute_result"
    }
   ],
   "source": [
    "df['placeOfBirth'].value_counts(normalize=True)"
   ]
  },
  {
   "cell_type": "code",
   "execution_count": 75,
   "id": "c1cb4891",
   "metadata": {},
   "outputs": [
    {
     "data": {
      "text/plain": [
       "1914.7936507936508"
      ]
     },
     "execution_count": 75,
     "metadata": {},
     "output_type": "execute_result"
    }
   ],
   "source": [
    "#What is the average year of birth of female artists who were born in the most prominent birthplace in the collection?\n",
    "\n",
    "df.loc[(df['gender'] == 'Female') & (df['placeOfBirth'] == 'London, United Kingdom'),\n",
    "        'yearOfBirth'].mean()"
   ]
  },
  {
   "cell_type": "code",
   "execution_count": 76,
   "id": "f8cb2f58",
   "metadata": {},
   "outputs": [
    {
     "data": {
      "text/plain": [
       "1859.84554973822"
      ]
     },
     "execution_count": 76,
     "metadata": {},
     "output_type": "execute_result"
    }
   ],
   "source": [
    "#What is the average year of birth of male artists who were born in the most prominent birthplace in the collection?\n",
    "\n",
    "df.loc[(df['gender'] == 'Male') & (df['placeOfBirth'] == 'London, United Kingdom'),\n",
    "        'yearOfBirth'].mean()"
   ]
  },
  {
   "cell_type": "code",
   "execution_count": 80,
   "id": "34876216",
   "metadata": {},
   "outputs": [
    {
     "data": {
      "text/plain": [
       "1946.2"
      ]
     },
     "execution_count": 80,
     "metadata": {},
     "output_type": "execute_result"
    }
   ],
   "source": [
    "# What is the average year of birth for female artists who were born in a city that is not the most frequent place of birth in the collection? \n",
    "    \n",
    "df.loc[(df['gender'] == 'Female') & (df['placeOfBirth'] == 'Glasgow, United Kingdom'),\n",
    "        'yearOfBirth'].mean()"
   ]
  },
  {
   "cell_type": "code",
   "execution_count": 81,
   "id": "1be6448f",
   "metadata": {},
   "outputs": [
    {
     "data": {
      "text/plain": [
       "1908.4"
      ]
     },
     "execution_count": 81,
     "metadata": {},
     "output_type": "execute_result"
    }
   ],
   "source": [
    "# What is the average year of birth for male artists who were born in a city that is not the most frequent place of birth in the collection? \n",
    "\n",
    "df.loc[(df['gender'] == 'Male') & (df['placeOfBirth'] == 'Glasgow, United Kingdom'),\n",
    "        'yearOfBirth'].mean()"
   ]
  },
  {
   "cell_type": "markdown",
   "id": "9bc37a3f",
   "metadata": {},
   "source": [
    "##Based on the above analysis, several observations emerge, the first of which is that most of the artists in the museum's collection come from Western and hegemonic countries such as the United Kingdom, the United States or France. While countries such as Spain, Russia, South Africa or Poland have a minimal proportion. Nor is there any presence of African, Asian or Latin American artists in the data analyzed. On the other hand, it appears that the years of birth of artists coming from hegemonic countries are much earlier than those of artists coming from non-hegemonic countries, which could suggest that the inclusion in the canon of these artists occurred much later than the entry of artists from hegemonic countries. "
   ]
  },
  {
   "cell_type": "code",
   "execution_count": 73,
   "id": "25437787",
   "metadata": {},
   "outputs": [
    {
     "data": {
      "text/plain": [
       "1936.0    49\n",
       "1930.0    48\n",
       "1967.0    45\n",
       "1928.0    45\n",
       "1938.0    41\n",
       "          ..\n",
       "1718.0     1\n",
       "1497.0     1\n",
       "1680.0     1\n",
       "1707.0     1\n",
       "1652.0     1\n",
       "Name: yearOfBirth, Length: 351, dtype: int64"
      ]
     },
     "execution_count": 73,
     "metadata": {},
     "output_type": "execute_result"
    }
   ],
   "source": [
    "#Count the year of birth of the artists in the collection\n",
    "\n",
    "df['yearOfBirth'].value_counts()   "
   ]
  },
  {
   "cell_type": "code",
   "execution_count": 77,
   "id": "e1f0fb5a",
   "metadata": {},
   "outputs": [
    {
     "data": {
      "text/plain": [
       "1936.0    0.014113\n",
       "1930.0    0.013825\n",
       "1967.0    0.012961\n",
       "1928.0    0.012961\n",
       "1938.0    0.011809\n",
       "            ...   \n",
       "1718.0    0.000288\n",
       "1497.0    0.000288\n",
       "1680.0    0.000288\n",
       "1707.0    0.000288\n",
       "1652.0    0.000288\n",
       "Name: yearOfBirth, Length: 351, dtype: float64"
      ]
     },
     "execution_count": 77,
     "metadata": {},
     "output_type": "execute_result"
    }
   ],
   "source": [
    "df['yearOfBirth'].value_counts(normalize=True)"
   ]
  },
  {
   "cell_type": "code",
   "execution_count": 83,
   "id": "740c4b5b",
   "metadata": {},
   "outputs": [
    {
     "name": "stderr",
     "output_type": "stream",
     "text": [
      "/var/folders/8r/v9_xt52n0_7250gc4dy76_p80000gn/T/ipykernel_2452/2411172936.py:3: FutureWarning: Dropping of nuisance columns in DataFrame reductions (with 'numeric_only=None') is deprecated; in a future version this will raise TypeError.  Select only valid columns before calling the reduction.\n",
      "  df.loc[df['placeOfBirth'] == 'London, United Kingdom', :].mean()\n"
     ]
    },
    {
     "data": {
      "text/plain": [
       "id             1930.161435\n",
       "yearOfBirth    1867.624719\n",
       "yearOfDeath    1911.439169\n",
       "dtype: float64"
      ]
     },
     "execution_count": 83,
     "metadata": {},
     "output_type": "execute_result"
    }
   ],
   "source": [
    "#What is the average year of birth and death of the artists who were born in the most prominent birthplace in the collection? \n",
    "\n",
    "df.loc[df['placeOfBirth'] == 'London, United Kingdom', :].mean()"
   ]
  },
  {
   "cell_type": "code",
   "execution_count": 84,
   "id": "aa02d40f",
   "metadata": {},
   "outputs": [
    {
     "data": {
      "text/html": [
       "<div>\n",
       "<style scoped>\n",
       "    .dataframe tbody tr th:only-of-type {\n",
       "        vertical-align: middle;\n",
       "    }\n",
       "\n",
       "    .dataframe tbody tr th {\n",
       "        vertical-align: top;\n",
       "    }\n",
       "\n",
       "    .dataframe thead th {\n",
       "        text-align: right;\n",
       "    }\n",
       "</style>\n",
       "<table border=\"1\" class=\"dataframe\">\n",
       "  <thead>\n",
       "    <tr style=\"text-align: right;\">\n",
       "      <th>yearOfBirth</th>\n",
       "      <th>1497.0</th>\n",
       "      <th>1531.0</th>\n",
       "      <th>1540.0</th>\n",
       "      <th>1547.0</th>\n",
       "      <th>1551.0</th>\n",
       "      <th>1560.0</th>\n",
       "      <th>1561.0</th>\n",
       "      <th>1572.0</th>\n",
       "      <th>1577.0</th>\n",
       "      <th>1580.0</th>\n",
       "      <th>...</th>\n",
       "      <th>1975.0</th>\n",
       "      <th>1976.0</th>\n",
       "      <th>1977.0</th>\n",
       "      <th>1978.0</th>\n",
       "      <th>1979.0</th>\n",
       "      <th>1980.0</th>\n",
       "      <th>1981.0</th>\n",
       "      <th>1982.0</th>\n",
       "      <th>1988.0</th>\n",
       "      <th>2004.0</th>\n",
       "    </tr>\n",
       "    <tr>\n",
       "      <th>gender</th>\n",
       "      <th></th>\n",
       "      <th></th>\n",
       "      <th></th>\n",
       "      <th></th>\n",
       "      <th></th>\n",
       "      <th></th>\n",
       "      <th></th>\n",
       "      <th></th>\n",
       "      <th></th>\n",
       "      <th></th>\n",
       "      <th></th>\n",
       "      <th></th>\n",
       "      <th></th>\n",
       "      <th></th>\n",
       "      <th></th>\n",
       "      <th></th>\n",
       "      <th></th>\n",
       "      <th></th>\n",
       "      <th></th>\n",
       "      <th></th>\n",
       "      <th></th>\n",
       "    </tr>\n",
       "  </thead>\n",
       "  <tbody>\n",
       "    <tr>\n",
       "      <th>Female</th>\n",
       "      <td>0</td>\n",
       "      <td>0</td>\n",
       "      <td>0</td>\n",
       "      <td>0</td>\n",
       "      <td>0</td>\n",
       "      <td>0</td>\n",
       "      <td>0</td>\n",
       "      <td>0</td>\n",
       "      <td>0</td>\n",
       "      <td>0</td>\n",
       "      <td>...</td>\n",
       "      <td>5</td>\n",
       "      <td>1</td>\n",
       "      <td>8</td>\n",
       "      <td>2</td>\n",
       "      <td>2</td>\n",
       "      <td>2</td>\n",
       "      <td>1</td>\n",
       "      <td>0</td>\n",
       "      <td>0</td>\n",
       "      <td>0</td>\n",
       "    </tr>\n",
       "    <tr>\n",
       "      <th>Male</th>\n",
       "      <td>1</td>\n",
       "      <td>1</td>\n",
       "      <td>2</td>\n",
       "      <td>1</td>\n",
       "      <td>1</td>\n",
       "      <td>1</td>\n",
       "      <td>1</td>\n",
       "      <td>1</td>\n",
       "      <td>2</td>\n",
       "      <td>1</td>\n",
       "      <td>...</td>\n",
       "      <td>10</td>\n",
       "      <td>3</td>\n",
       "      <td>10</td>\n",
       "      <td>4</td>\n",
       "      <td>4</td>\n",
       "      <td>0</td>\n",
       "      <td>0</td>\n",
       "      <td>3</td>\n",
       "      <td>1</td>\n",
       "      <td>1</td>\n",
       "    </tr>\n",
       "  </tbody>\n",
       "</table>\n",
       "<p>2 rows × 341 columns</p>\n",
       "</div>"
      ],
      "text/plain": [
       "yearOfBirth  1497.0  1531.0  1540.0  1547.0  1551.0  1560.0  1561.0  1572.0  \\\n",
       "gender                                                                        \n",
       "Female            0       0       0       0       0       0       0       0   \n",
       "Male              1       1       2       1       1       1       1       1   \n",
       "\n",
       "yearOfBirth  1577.0  1580.0  ...  1975.0  1976.0  1977.0  1978.0  1979.0  \\\n",
       "gender                       ...                                           \n",
       "Female            0       0  ...       5       1       8       2       2   \n",
       "Male              2       1  ...      10       3      10       4       4   \n",
       "\n",
       "yearOfBirth  1980.0  1981.0  1982.0  1988.0  2004.0  \n",
       "gender                                               \n",
       "Female            2       1       0       0       0  \n",
       "Male              0       0       3       1       1  \n",
       "\n",
       "[2 rows x 341 columns]"
      ]
     },
     "execution_count": 84,
     "metadata": {},
     "output_type": "execute_result"
    }
   ],
   "source": [
    "#How many female and male artists were born in each year of birth recorded in the database?\n",
    "\n",
    "How many female and male artists were born in each year of birth recorded in the database?pd.crosstab(df['gender'], df['yearOfBirth'])"
   ]
  },
  {
   "cell_type": "code",
   "execution_count": 85,
   "id": "9c4c0fdc",
   "metadata": {},
   "outputs": [
    {
     "data": {
      "text/html": [
       "<div>\n",
       "<style scoped>\n",
       "    .dataframe tbody tr th:only-of-type {\n",
       "        vertical-align: middle;\n",
       "    }\n",
       "\n",
       "    .dataframe tbody tr th {\n",
       "        vertical-align: top;\n",
       "    }\n",
       "\n",
       "    .dataframe thead th {\n",
       "        text-align: right;\n",
       "    }\n",
       "</style>\n",
       "<table border=\"1\" class=\"dataframe\">\n",
       "  <thead>\n",
       "    <tr style=\"text-align: right;\">\n",
       "      <th>placeOfBirth</th>\n",
       "      <th>Aachen, Deutschland</th>\n",
       "      <th>Abbotsford, Canada</th>\n",
       "      <th>Aberdare, United Kingdom</th>\n",
       "      <th>Aberdeen, United Kingdom</th>\n",
       "      <th>Aberdeen, United States</th>\n",
       "      <th>Abergavenny, United Kingdom</th>\n",
       "      <th>Abinger, United Kingdom</th>\n",
       "      <th>Accrington, United Kingdom</th>\n",
       "      <th>Acton, United Kingdom</th>\n",
       "      <th>Addlestone, United Kingdom</th>\n",
       "      <th>...</th>\n",
       "      <th>Zundert, Nederland</th>\n",
       "      <th>Zürich, Schweiz</th>\n",
       "      <th>s Gravenhage, Nederland</th>\n",
       "      <th>Ålesund, Norge</th>\n",
       "      <th>Éire</th>\n",
       "      <th>Îran</th>\n",
       "      <th>Österreich</th>\n",
       "      <th>Šid, Jugoslavija</th>\n",
       "      <th>Škofja Loka, Slovenija</th>\n",
       "      <th>‘Afula, Yisra'el</th>\n",
       "    </tr>\n",
       "    <tr>\n",
       "      <th>gender</th>\n",
       "      <th></th>\n",
       "      <th></th>\n",
       "      <th></th>\n",
       "      <th></th>\n",
       "      <th></th>\n",
       "      <th></th>\n",
       "      <th></th>\n",
       "      <th></th>\n",
       "      <th></th>\n",
       "      <th></th>\n",
       "      <th></th>\n",
       "      <th></th>\n",
       "      <th></th>\n",
       "      <th></th>\n",
       "      <th></th>\n",
       "      <th></th>\n",
       "      <th></th>\n",
       "      <th></th>\n",
       "      <th></th>\n",
       "      <th></th>\n",
       "      <th></th>\n",
       "    </tr>\n",
       "  </thead>\n",
       "  <tbody>\n",
       "    <tr>\n",
       "      <th>Female</th>\n",
       "      <td>0</td>\n",
       "      <td>0</td>\n",
       "      <td>0</td>\n",
       "      <td>1</td>\n",
       "      <td>0</td>\n",
       "      <td>0</td>\n",
       "      <td>0</td>\n",
       "      <td>0</td>\n",
       "      <td>0</td>\n",
       "      <td>0</td>\n",
       "      <td>...</td>\n",
       "      <td>0</td>\n",
       "      <td>1</td>\n",
       "      <td>0</td>\n",
       "      <td>0</td>\n",
       "      <td>0</td>\n",
       "      <td>2</td>\n",
       "      <td>2</td>\n",
       "      <td>0</td>\n",
       "      <td>0</td>\n",
       "      <td>1</td>\n",
       "    </tr>\n",
       "    <tr>\n",
       "      <th>Male</th>\n",
       "      <td>1</td>\n",
       "      <td>1</td>\n",
       "      <td>1</td>\n",
       "      <td>5</td>\n",
       "      <td>2</td>\n",
       "      <td>1</td>\n",
       "      <td>1</td>\n",
       "      <td>1</td>\n",
       "      <td>1</td>\n",
       "      <td>1</td>\n",
       "      <td>...</td>\n",
       "      <td>1</td>\n",
       "      <td>5</td>\n",
       "      <td>3</td>\n",
       "      <td>1</td>\n",
       "      <td>3</td>\n",
       "      <td>0</td>\n",
       "      <td>1</td>\n",
       "      <td>1</td>\n",
       "      <td>1</td>\n",
       "      <td>0</td>\n",
       "    </tr>\n",
       "  </tbody>\n",
       "</table>\n",
       "<p>2 rows × 1262 columns</p>\n",
       "</div>"
      ],
      "text/plain": [
       "placeOfBirth  Aachen, Deutschland  Abbotsford, Canada  \\\n",
       "gender                                                  \n",
       "Female                          0                   0   \n",
       "Male                            1                   1   \n",
       "\n",
       "placeOfBirth  Aberdare, United Kingdom  Aberdeen, United Kingdom  \\\n",
       "gender                                                             \n",
       "Female                               0                         1   \n",
       "Male                                 1                         5   \n",
       "\n",
       "placeOfBirth  Aberdeen, United States  Abergavenny, United Kingdom  \\\n",
       "gender                                                               \n",
       "Female                              0                            0   \n",
       "Male                                2                            1   \n",
       "\n",
       "placeOfBirth  Abinger, United Kingdom  Accrington, United Kingdom  \\\n",
       "gender                                                              \n",
       "Female                              0                           0   \n",
       "Male                                1                           1   \n",
       "\n",
       "placeOfBirth  Acton, United Kingdom  Addlestone, United Kingdom  ...  \\\n",
       "gender                                                           ...   \n",
       "Female                            0                           0  ...   \n",
       "Male                              1                           1  ...   \n",
       "\n",
       "placeOfBirth  Zundert, Nederland  Zürich, Schweiz  s Gravenhage, Nederland  \\\n",
       "gender                                                                       \n",
       "Female                         0                1                        0   \n",
       "Male                           1                5                        3   \n",
       "\n",
       "placeOfBirth  Ålesund, Norge  Éire  Îran  Österreich  Šid, Jugoslavija  \\\n",
       "gender                                                                   \n",
       "Female                     0     0     2           2                 0   \n",
       "Male                       1     3     0           1                 1   \n",
       "\n",
       "placeOfBirth  Škofja Loka, Slovenija  ‘Afula, Yisra'el  \n",
       "gender                                                  \n",
       "Female                             0                 1  \n",
       "Male                               1                 0  \n",
       "\n",
       "[2 rows x 1262 columns]"
      ]
     },
     "execution_count": 85,
     "metadata": {},
     "output_type": "execute_result"
    }
   ],
   "source": [
    "#How many female and male artists were born in each place of birth recorded in the database?\n",
    "\n",
    "pd.crosstab(df['gender'], df['placeOfBirth'])"
   ]
  },
  {
   "cell_type": "markdown",
   "id": "db41165e",
   "metadata": {},
   "source": [
    "##The overall analysis provided by the metadata suggests that the proportion of female artists is minimal in relation to the male artists in the Tate Museum's collection. On the other hand, it can be observed that most of the artists in the collection come from hegemonic countries and were born at the end of the 19th century."
   ]
  },
  {
   "cell_type": "code",
   "execution_count": null,
   "id": "0910d90f",
   "metadata": {},
   "outputs": [],
   "source": []
  }
 ],
 "metadata": {
  "kernelspec": {
   "display_name": "Python 3 (ipykernel)",
   "language": "python",
   "name": "python3"
  },
  "language_info": {
   "codemirror_mode": {
    "name": "ipython",
    "version": 3
   },
   "file_extension": ".py",
   "mimetype": "text/x-python",
   "name": "python",
   "nbconvert_exporter": "python",
   "pygments_lexer": "ipython3",
   "version": "3.8.8"
  }
 },
 "nbformat": 4,
 "nbformat_minor": 5
}
